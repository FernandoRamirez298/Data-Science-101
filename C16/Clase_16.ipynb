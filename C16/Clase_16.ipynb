{
 "cells": [
  {
   "attachments": {},
   "cell_type": "markdown",
   "metadata": {},
   "source": [
    "Analsis de Data Wrangling en clase\n"
   ]
  },
  {
   "cell_type": "code",
   "execution_count": null,
   "metadata": {},
   "outputs": [],
   "source": [
    "import pandas as pd\n",
    "import numpy as np\n",
    "import sqlite3\n",
    "\n",
    "sql = \"SELECT name FROM sqlite_master WHERE type='table'\"\n",
    "cnx = sqlite3.connect('nba_salary.sqlite')\n",
    "\n",
    "df = pd.read_sql_query(sql, cnx)\n",
    "\n",
    "print(df)\n",
    "cnx.close()"
   ]
  }
 ],
 "metadata": {
  "language_info": {
   "name": "python"
  },
  "orig_nbformat": 4
 },
 "nbformat": 4,
 "nbformat_minor": 2
}
